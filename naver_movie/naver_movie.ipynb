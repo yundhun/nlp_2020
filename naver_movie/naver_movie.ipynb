{
 "cells": [
  {
   "cell_type": "code",
   "execution_count": 1,
   "metadata": {
    "colab": {
     "base_uri": "https://localhost:8080/"
    },
    "id": "15hMzvmDIvs4",
    "outputId": "ae5082c5-0965-44af-cb37-7e35810977e6",
    "scrolled": true
   },
   "outputs": [
    {
     "name": "stdout",
     "output_type": "stream",
     "text": [
      "Requirement already satisfied: mxnet in /home/nvadmin/anaconda3/lib/python3.7/site-packages (1.7.0.post1)\n",
      "Requirement already satisfied: graphviz<0.9.0,>=0.8.1 in /home/nvadmin/anaconda3/lib/python3.7/site-packages (from mxnet) (0.8.4)\n",
      "Requirement already satisfied: numpy<2.0.0,>1.16.0 in /home/nvadmin/anaconda3/lib/python3.7/site-packages (from mxnet) (1.16.2)\n",
      "Requirement already satisfied: requests<3,>=2.20.0 in /home/nvadmin/anaconda3/lib/python3.7/site-packages (from mxnet) (2.25.1)\n",
      "Requirement already satisfied: idna<3,>=2.5 in /home/nvadmin/anaconda3/lib/python3.7/site-packages (from requests<3,>=2.20.0->mxnet) (2.8)\n",
      "Requirement already satisfied: chardet<5,>=3.0.2 in /home/nvadmin/anaconda3/lib/python3.7/site-packages (from requests<3,>=2.20.0->mxnet) (3.0.4)\n",
      "Requirement already satisfied: urllib3<1.27,>=1.21.1 in /home/nvadmin/anaconda3/lib/python3.7/site-packages (from requests<3,>=2.20.0->mxnet) (1.26.2)\n",
      "Requirement already satisfied: certifi>=2017.4.17 in /home/nvadmin/anaconda3/lib/python3.7/site-packages (from requests<3,>=2.20.0->mxnet) (2020.12.5)\n",
      "Requirement already satisfied: gluonnlp in /home/nvadmin/anaconda3/lib/python3.7/site-packages (0.10.0)\n",
      "Requirement already satisfied: pandas in /home/nvadmin/anaconda3/lib/python3.7/site-packages (0.23.4)\n",
      "Requirement already satisfied: tqdm in /home/nvadmin/anaconda3/lib/python3.7/site-packages (4.28.1)\n",
      "Requirement already satisfied: packaging in /home/nvadmin/anaconda3/lib/python3.7/site-packages (from gluonnlp) (18.0)\n",
      "Requirement already satisfied: cython in /home/nvadmin/anaconda3/lib/python3.7/site-packages (from gluonnlp) (0.29.2)\n",
      "Requirement already satisfied: numpy>=1.16.0 in /home/nvadmin/anaconda3/lib/python3.7/site-packages (from gluonnlp) (1.16.2)\n",
      "Requirement already satisfied: python-dateutil>=2.5.0 in /home/nvadmin/anaconda3/lib/python3.7/site-packages (from pandas) (2.7.5)\n",
      "Requirement already satisfied: pytz>=2011k in /home/nvadmin/anaconda3/lib/python3.7/site-packages (from pandas) (2018.7)\n",
      "Requirement already satisfied: six in /home/nvadmin/anaconda3/lib/python3.7/site-packages (from packaging->gluonnlp) (1.12.0)\n",
      "Requirement already satisfied: pyparsing>=2.0.2 in /home/nvadmin/anaconda3/lib/python3.7/site-packages (from packaging->gluonnlp) (2.3.0)\n",
      "Requirement already satisfied: sentencepiece in /home/nvadmin/anaconda3/lib/python3.7/site-packages (0.1.94)\n",
      "Requirement already satisfied: transformers==3 in /home/nvadmin/anaconda3/lib/python3.7/site-packages (3.0.0)\n",
      "Requirement already satisfied: tokenizers==0.8.0-rc4 in /home/nvadmin/anaconda3/lib/python3.7/site-packages (from transformers==3) (0.8.0rc4)\n",
      "Requirement already satisfied: requests in /home/nvadmin/anaconda3/lib/python3.7/site-packages (from transformers==3) (2.25.1)\n",
      "Requirement already satisfied: sentencepiece in /home/nvadmin/anaconda3/lib/python3.7/site-packages (from transformers==3) (0.1.94)\n",
      "Requirement already satisfied: regex!=2019.12.17 in /home/nvadmin/anaconda3/lib/python3.7/site-packages (from transformers==3) (2020.11.13)\n",
      "Requirement already satisfied: numpy in /home/nvadmin/anaconda3/lib/python3.7/site-packages (from transformers==3) (1.16.2)\n",
      "Requirement already satisfied: tqdm>=4.27 in /home/nvadmin/anaconda3/lib/python3.7/site-packages (from transformers==3) (4.28.1)\n",
      "Requirement already satisfied: packaging in /home/nvadmin/anaconda3/lib/python3.7/site-packages (from transformers==3) (18.0)\n",
      "Requirement already satisfied: sacremoses in /home/nvadmin/anaconda3/lib/python3.7/site-packages (from transformers==3) (0.0.43)\n",
      "Requirement already satisfied: filelock in /home/nvadmin/anaconda3/lib/python3.7/site-packages (from transformers==3) (3.0.10)\n",
      "Requirement already satisfied: chardet<5,>=3.0.2 in /home/nvadmin/anaconda3/lib/python3.7/site-packages (from requests->transformers==3) (3.0.4)\n",
      "Requirement already satisfied: certifi>=2017.4.17 in /home/nvadmin/anaconda3/lib/python3.7/site-packages (from requests->transformers==3) (2020.12.5)\n",
      "Requirement already satisfied: urllib3<1.27,>=1.21.1 in /home/nvadmin/anaconda3/lib/python3.7/site-packages (from requests->transformers==3) (1.26.2)\n",
      "Requirement already satisfied: idna<3,>=2.5 in /home/nvadmin/anaconda3/lib/python3.7/site-packages (from requests->transformers==3) (2.8)\n",
      "Requirement already satisfied: six in /home/nvadmin/anaconda3/lib/python3.7/site-packages (from packaging->transformers==3) (1.12.0)\n",
      "Requirement already satisfied: pyparsing>=2.0.2 in /home/nvadmin/anaconda3/lib/python3.7/site-packages (from packaging->transformers==3) (2.3.0)\n",
      "Requirement already satisfied: joblib in /home/nvadmin/anaconda3/lib/python3.7/site-packages (from sacremoses->transformers==3) (1.0.0)\n",
      "Requirement already satisfied: click in /home/nvadmin/anaconda3/lib/python3.7/site-packages (from sacremoses->transformers==3) (7.0)\n",
      "Requirement already satisfied: torch in /home/nvadmin/anaconda3/lib/python3.7/site-packages (1.5.0)\n",
      "Requirement already satisfied: numpy in /home/nvadmin/anaconda3/lib/python3.7/site-packages (from torch) (1.16.2)\n",
      "Requirement already satisfied: future in /home/nvadmin/anaconda3/lib/python3.7/site-packages (from torch) (0.17.1)\n"
     ]
    }
   ],
   "source": [
    "!pip install mxnet\n",
    "!pip install gluonnlp pandas tqdm\n",
    "!pip install sentencepiece\n",
    "!pip install transformers==3\n",
    "!pip install torch"
   ]
  },
  {
   "cell_type": "code",
   "execution_count": 2,
   "metadata": {
    "colab": {
     "base_uri": "https://localhost:8080/"
    },
    "id": "A2teXN1mIvs7",
    "outputId": "fd20a721-01ba-4a90-c377-f72939a62b10"
   },
   "outputs": [
    {
     "name": "stdout",
     "output_type": "stream",
     "text": [
      "Collecting git+https://****@github.com/SKTBrain/KoBERT.git@master\n",
      "  Cloning https://****@github.com/SKTBrain/KoBERT.git (to revision master) to /tmp/pip-req-build-w43ljcn8\n",
      "  Running command git clone -q 'https://****@github.com/SKTBrain/KoBERT.git' /tmp/pip-req-build-w43ljcn8\n",
      "Building wheels for collected packages: kobert\n",
      "  Building wheel for kobert (setup.py) ... \u001b[?25ldone\n",
      "\u001b[?25h  Created wheel for kobert: filename=kobert-0.1.2-py3-none-any.whl size=12732 sha256=b54f8a29bb47646a60be2c436ac188abd9aafc168cffb930d05fff59ff485191\n",
      "  Stored in directory: /tmp/pip-ephem-wheel-cache-78gtf233/wheels/d3/68/ca/334747dfb038313b49cf71f84832a33372f3470d9ddfd051c0\n",
      "Successfully built kobert\n",
      "Installing collected packages: kobert\n",
      "Successfully installed kobert-0.1.2\n"
     ]
    }
   ],
   "source": [
    "!pip install git+https://git@github.com/SKTBrain/KoBERT.git@master"
   ]
  },
  {
   "cell_type": "code",
   "execution_count": 3,
   "metadata": {
    "id": "b9CPAP25Ivs8"
   },
   "outputs": [],
   "source": [
    "import torch\n",
    "from torch import nn\n",
    "import torch.nn.functional as F\n",
    "import torch.optim as optim\n",
    "from torch.utils.data import Dataset, DataLoader\n",
    "import gluonnlp as nlp\n",
    "import numpy as np\n",
    "from tqdm import tqdm, tqdm_notebook"
   ]
  },
  {
   "cell_type": "code",
   "execution_count": 4,
   "metadata": {
    "id": "m6vgBbdCIvs8"
   },
   "outputs": [],
   "source": [
    "from kobert.utils import get_tokenizer\n",
    "from kobert.pytorch_kobert import get_pytorch_kobert_model"
   ]
  },
  {
   "cell_type": "code",
   "execution_count": 5,
   "metadata": {
    "id": "iOrmlIXZIvs8"
   },
   "outputs": [],
   "source": [
    "from transformers import AdamW\n",
    "from transformers.optimization import get_cosine_schedule_with_warmup"
   ]
  },
  {
   "cell_type": "code",
   "execution_count": 6,
   "metadata": {
    "id": "SW9J28EfIvs9"
   },
   "outputs": [],
   "source": [
    "##GPU 사용 시\n",
    "device = torch.device(\"cuda:0\")"
   ]
  },
  {
   "cell_type": "code",
   "execution_count": 7,
   "metadata": {
    "colab": {
     "base_uri": "https://localhost:8080/"
    },
    "id": "JRTcFIc0Ivs9",
    "outputId": "3f54fc7c-e782-4218-a938-6f98ae142aa1"
   },
   "outputs": [
    {
     "name": "stdout",
     "output_type": "stream",
     "text": [
      "[██████████████████████████████████████████████████]\n",
      "[██████████████████████████████████████████████████]\n"
     ]
    }
   ],
   "source": [
    "bertmodel, vocab = get_pytorch_kobert_model()"
   ]
  },
  {
   "cell_type": "code",
   "execution_count": 8,
   "metadata": {
    "colab": {
     "base_uri": "https://localhost:8080/"
    },
    "id": "9pD3WR8lIvs9",
    "outputId": "3561192c-3b4b-413d-8d23-ea14cd9f4c86"
   },
   "outputs": [
    {
     "name": "stdout",
     "output_type": "stream",
     "text": [
      "--2020-12-24 00:20:39--  https://www.dropbox.com/s/374ftkec978br3d/ratings_train.txt?dl=1\n",
      "Resolving www.dropbox.com (www.dropbox.com)... 162.125.80.18, 2620:100:6030:18::a27d:5012\n",
      "Connecting to www.dropbox.com (www.dropbox.com)|162.125.80.18|:443... connected.\n",
      "HTTP request sent, awaiting response... 301 Moved Permanently\n",
      "Location: /s/dl/374ftkec978br3d/ratings_train.txt [following]\n",
      "--2020-12-24 00:20:40--  https://www.dropbox.com/s/dl/374ftkec978br3d/ratings_train.txt\n",
      "Reusing existing connection to www.dropbox.com:443.\n",
      "HTTP request sent, awaiting response... 302 Found\n",
      "Location: https://uc21a7edd911c0cecccdb93ea938.dl.dropboxusercontent.com/cd/0/get/BFkiZLIEIMoyATMc92ecpAqZhde8xtqUZMq42LZNLyyAEDz0wzM8G-dK7aAlJS5Dk-7fvcRCs9K8q4R90Q0jGK6Z1pjWpTZhu1C4Wnik2jRjzYr2JcyUwoOv_b-i_agddmA/file?dl=1# [following]\n",
      "--2020-12-24 00:20:40--  https://uc21a7edd911c0cecccdb93ea938.dl.dropboxusercontent.com/cd/0/get/BFkiZLIEIMoyATMc92ecpAqZhde8xtqUZMq42LZNLyyAEDz0wzM8G-dK7aAlJS5Dk-7fvcRCs9K8q4R90Q0jGK6Z1pjWpTZhu1C4Wnik2jRjzYr2JcyUwoOv_b-i_agddmA/file?dl=1\n",
      "Resolving uc21a7edd911c0cecccdb93ea938.dl.dropboxusercontent.com (uc21a7edd911c0cecccdb93ea938.dl.dropboxusercontent.com)... 162.125.80.15, 2620:100:6030:15::a27d:500f\n",
      "Connecting to uc21a7edd911c0cecccdb93ea938.dl.dropboxusercontent.com (uc21a7edd911c0cecccdb93ea938.dl.dropboxusercontent.com)|162.125.80.15|:443... connected.\n",
      "HTTP request sent, awaiting response... 200 OK\n",
      "Length: 14628807 (14M) [application/binary]\n",
      "Saving to: ‘ratings_train.txt?dl=1’\n",
      "\n",
      "ratings_train.txt?d 100%[===================>]  13.95M  8.27MB/s    in 1.7s    \n",
      "\n",
      "2020-12-24 00:20:43 (8.27 MB/s) - ‘ratings_train.txt?dl=1’ saved [14628807/14628807]\n",
      "\n",
      "--2020-12-24 00:20:43--  https://www.dropbox.com/s/977gbwh542gdy94/ratings_test.txt?dl=1\n",
      "Resolving www.dropbox.com (www.dropbox.com)... 162.125.80.18, 2620:100:6030:18::a27d:5012\n",
      "Connecting to www.dropbox.com (www.dropbox.com)|162.125.80.18|:443... connected.\n",
      "HTTP request sent, awaiting response... 301 Moved Permanently\n",
      "Location: /s/dl/977gbwh542gdy94/ratings_test.txt [following]\n",
      "--2020-12-24 00:20:44--  https://www.dropbox.com/s/dl/977gbwh542gdy94/ratings_test.txt\n",
      "Reusing existing connection to www.dropbox.com:443.\n",
      "HTTP request sent, awaiting response... 302 Found\n",
      "Location: https://uc60aa807cd0aeca689bb5ceac97.dl.dropboxusercontent.com/cd/0/get/BFmY6VS6N4NrFeLkxAynbLwCL8cNf7vqyRw8YTCKpCq6cg2NvyDkRd7vMKR3auPhdq0Q_mGNVP8dus-aeU-i9mJxuKr_ee1XqLAswMUBPTjuzc_B1x39aKiDCt-Kjp9uML0/file?dl=1# [following]\n",
      "--2020-12-24 00:20:44--  https://uc60aa807cd0aeca689bb5ceac97.dl.dropboxusercontent.com/cd/0/get/BFmY6VS6N4NrFeLkxAynbLwCL8cNf7vqyRw8YTCKpCq6cg2NvyDkRd7vMKR3auPhdq0Q_mGNVP8dus-aeU-i9mJxuKr_ee1XqLAswMUBPTjuzc_B1x39aKiDCt-Kjp9uML0/file?dl=1\n",
      "Resolving uc60aa807cd0aeca689bb5ceac97.dl.dropboxusercontent.com (uc60aa807cd0aeca689bb5ceac97.dl.dropboxusercontent.com)... 162.125.80.15, 2620:100:6030:15::a27d:500f\n",
      "Connecting to uc60aa807cd0aeca689bb5ceac97.dl.dropboxusercontent.com (uc60aa807cd0aeca689bb5ceac97.dl.dropboxusercontent.com)|162.125.80.15|:443... connected.\n",
      "HTTP request sent, awaiting response... 200 OK\n",
      "Length: 4893335 (4.7M) [application/binary]\n",
      "Saving to: ‘ratings_test.txt?dl=1’\n",
      "\n",
      "ratings_test.txt?dl 100%[===================>]   4.67M  6.82MB/s    in 0.7s    \n",
      "\n",
      "2020-12-24 00:20:46 (6.82 MB/s) - ‘ratings_test.txt?dl=1’ saved [4893335/4893335]\n",
      "\n"
     ]
    }
   ],
   "source": [
    "!wget https://www.dropbox.com/s/374ftkec978br3d/ratings_train.txt?dl=1\n",
    "!wget https://www.dropbox.com/s/977gbwh542gdy94/ratings_test.txt?dl=1"
   ]
  },
  {
   "cell_type": "code",
   "execution_count": 9,
   "metadata": {
    "id": "I5XAIJqEIvs-"
   },
   "outputs": [],
   "source": [
    "dataset_train = nlp.data.TSVDataset(\"ratings_train.txt?dl=1\", field_indices=[1,2], num_discard_samples=1)\n",
    "dataset_test = nlp.data.TSVDataset(\"ratings_test.txt?dl=1\", field_indices=[1,2], num_discard_samples=1)"
   ]
  },
  {
   "cell_type": "code",
   "execution_count": null,
   "metadata": {
    "id": "EXmcdymoMQeM"
   },
   "outputs": [],
   "source": []
  },
  {
   "cell_type": "code",
   "execution_count": 10,
   "metadata": {
    "colab": {
     "base_uri": "https://localhost:8080/"
    },
    "id": "mrkg3dE4Ivs-",
    "outputId": "da1fc7f3-68a5-4c1c-c707-d895e99e731c"
   },
   "outputs": [
    {
     "name": "stdout",
     "output_type": "stream",
     "text": [
      "using cached model\n"
     ]
    }
   ],
   "source": [
    "tokenizer = get_tokenizer()\n",
    "tok = nlp.data.BERTSPTokenizer(tokenizer, vocab, lower=False)"
   ]
  },
  {
   "cell_type": "code",
   "execution_count": 11,
   "metadata": {
    "id": "0arGaSwaIvs-"
   },
   "outputs": [],
   "source": [
    "class BERTDataset(Dataset):\n",
    "    def __init__(self, dataset, sent_idx, label_idx, bert_tokenizer, max_len,\n",
    "                 pad, pair):\n",
    "        transform = nlp.data.BERTSentenceTransform(\n",
    "            bert_tokenizer, max_seq_length=max_len, pad=pad, pair=pair)\n",
    "\n",
    "        self.sentences = [transform([i[sent_idx]]) for i in dataset]\n",
    "        self.labels = [np.int32(i[label_idx]) for i in dataset]\n",
    "\n",
    "    def __getitem__(self, i):\n",
    "        return (self.sentences[i] + (self.labels[i], ))\n",
    "\n",
    "    def __len__(self):\n",
    "        return (len(self.labels))\n"
   ]
  },
  {
   "cell_type": "code",
   "execution_count": 12,
   "metadata": {
    "id": "ntgrjkiqIvs-"
   },
   "outputs": [],
   "source": [
    "## Setting parameters\n",
    "max_len = 64\n",
    "batch_size = 64\n",
    "warmup_ratio = 0.1\n",
    "num_epochs = 10\n",
    "max_grad_norm = 1\n",
    "log_interval = 200\n",
    "learning_rate =  5e-5"
   ]
  },
  {
   "cell_type": "code",
   "execution_count": 13,
   "metadata": {
    "id": "8nwQ6iENIvs_"
   },
   "outputs": [],
   "source": [
    "data_train = BERTDataset(dataset_train, 0, 1, tok, max_len, True, False)\n",
    "data_test = BERTDataset(dataset_test, 0, 1, tok, max_len, True, False)"
   ]
  },
  {
   "cell_type": "code",
   "execution_count": 14,
   "metadata": {
    "id": "q_20jYmTIvs_"
   },
   "outputs": [],
   "source": [
    "train_dataloader = torch.utils.data.DataLoader(data_train, batch_size=batch_size, num_workers=5)\n",
    "test_dataloader = torch.utils.data.DataLoader(data_test, batch_size=batch_size, num_workers=5)"
   ]
  },
  {
   "cell_type": "code",
   "execution_count": 15,
   "metadata": {
    "id": "oM7dII5jIvs_"
   },
   "outputs": [],
   "source": [
    "class BERTClassifier(nn.Module):\n",
    "    def __init__(self,\n",
    "                 bert,\n",
    "                 hidden_size = 768,\n",
    "                 num_classes=2,\n",
    "                 dr_rate=None,\n",
    "                 params=None):\n",
    "        super(BERTClassifier, self).__init__()\n",
    "        self.bert = bert\n",
    "        self.dr_rate = dr_rate\n",
    "                 \n",
    "        self.classifier = nn.Linear(hidden_size , num_classes)\n",
    "        if dr_rate:\n",
    "            self.dropout = nn.Dropout(p=0.5)\n",
    "    \n",
    "    def gen_attention_mask(self, token_ids, valid_length):\n",
    "        attention_mask = torch.zeros_like(token_ids)\n",
    "        for i, v in enumerate(valid_length):\n",
    "            attention_mask[i][:v] = 1\n",
    "        return attention_mask.float()\n",
    "\n",
    "    def forward(self, token_ids, valid_length, segment_ids):\n",
    "        attention_mask = self.gen_attention_mask(token_ids, valid_length)\n",
    "        \n",
    "        _, pooler = self.bert(input_ids = token_ids, token_type_ids = segment_ids.long(), attention_mask = attention_mask.float().to(token_ids.device))\n",
    "        if self.dr_rate:\n",
    "            out = self.dropout(pooler)\n",
    "        return self.classifier(out)"
   ]
  },
  {
   "cell_type": "code",
   "execution_count": 16,
   "metadata": {
    "id": "Alz2WNCsIvs_"
   },
   "outputs": [],
   "source": [
    "model = BERTClassifier(bertmodel,  dr_rate=0.5).to(device)"
   ]
  },
  {
   "cell_type": "code",
   "execution_count": 17,
   "metadata": {
    "id": "gaLWBG6BIvtA"
   },
   "outputs": [],
   "source": [
    "# Prepare optimizer and schedule (linear warmup and decay)\n",
    "no_decay = ['bias', 'LayerNorm.weight']\n",
    "optimizer_grouped_parameters = [\n",
    "    {'params': [p for n, p in model.named_parameters() if not any(nd in n for nd in no_decay)], 'weight_decay': 0.01},\n",
    "    {'params': [p for n, p in model.named_parameters() if any(nd in n for nd in no_decay)], 'weight_decay': 0.0}\n",
    "]"
   ]
  },
  {
   "cell_type": "code",
   "execution_count": 18,
   "metadata": {
    "id": "GCKLCRzNIvtA"
   },
   "outputs": [],
   "source": [
    "optimizer = AdamW(optimizer_grouped_parameters, lr=learning_rate)\n",
    "loss_fn = nn.CrossEntropyLoss()"
   ]
  },
  {
   "cell_type": "code",
   "execution_count": 24,
   "metadata": {
    "id": "pmIsNB5nIvtA"
   },
   "outputs": [],
   "source": [
    "t_total = len(train_dataloader) * num_epochs\n",
    "warmup_step = int(t_total * warmup_ratio)"
   ]
  },
  {
   "cell_type": "code",
   "execution_count": 20,
   "metadata": {
    "id": "AwCk6O3cIvtA"
   },
   "outputs": [],
   "source": [
    "scheduler = get_cosine_schedule_with_warmup(optimizer, num_warmup_steps=warmup_step, num_training_steps=t_total)"
   ]
  },
  {
   "cell_type": "code",
   "execution_count": 21,
   "metadata": {
    "id": "0F_l7NLzIvtA"
   },
   "outputs": [],
   "source": [
    "def calc_accuracy(X,Y):\n",
    "    max_vals, max_indices = torch.max(X, 1)\n",
    "    train_acc = (max_indices == Y).sum().data.cpu().numpy()/max_indices.size()[0]\n",
    "    return train_acc"
   ]
  },
  {
   "cell_type": "code",
   "execution_count": 22,
   "metadata": {
    "colab": {
     "base_uri": "https://localhost:8080/",
     "height": 193,
     "referenced_widgets": [
      "68e17e52981d43349842a7095d436d7a",
      "efdeec65971d4dcc927d8f1827cfd26d",
      "c9c74b3ebdbb4bc6be642bd120eae11a",
      "e42bb7bd91d34bddae30d7c7f118c587",
      "8075e88fb3304db4b54495263cdab715",
      "03ed660542474f0984b7da0a6781a743",
      "e5ccdcbe77c54daea1e8ba61251c23c8",
      "8a383bb4d48143c6a057c1b7d106817b"
     ]
    },
    "id": "w7NsZR2QIvtB",
    "outputId": "30f804a7-7f23-4e34-b227-2f4806bd710d"
   },
   "outputs": [
    {
     "data": {
      "application/vnd.jupyter.widget-view+json": {
       "model_id": "839051161e32462fbe9d314539f7bd38",
       "version_major": 2,
       "version_minor": 0
      },
      "text/plain": [
       "HBox(children=(IntProgress(value=0, max=2344), HTML(value='')))"
      ]
     },
     "metadata": {},
     "output_type": "display_data"
    },
    {
     "name": "stdout",
     "output_type": "stream",
     "text": [
      "epoch 1 batch id 1 loss 0.7366753220558167 train acc 0.5\n",
      "epoch 1 batch id 201 loss 0.6568121910095215 train acc 0.5171797263681592\n",
      "epoch 1 batch id 401 loss 0.4852443337440491 train acc 0.6189993765586035\n",
      "epoch 1 batch id 601 loss 0.41338542103767395 train acc 0.684900166389351\n",
      "epoch 1 batch id 801 loss 0.42175182700157166 train acc 0.7240948813982522\n",
      "epoch 1 batch id 1001 loss 0.33205199241638184 train acc 0.7482985764235764\n",
      "epoch 1 batch id 1201 loss 0.4162306785583496 train acc 0.7663405495420483\n",
      "epoch 1 batch id 1401 loss 0.40020865201950073 train acc 0.7788187009279086\n",
      "epoch 1 batch id 1601 loss 0.35288363695144653 train acc 0.7895846346033729\n",
      "epoch 1 batch id 1801 loss 0.29010167717933655 train acc 0.7977946279844531\n",
      "epoch 1 batch id 2001 loss 0.28915029764175415 train acc 0.8049725137431284\n",
      "epoch 1 batch id 2201 loss 0.35682129859924316 train acc 0.8109524079963653\n",
      "\n",
      "epoch 1 train acc 0.8147842007963595\n"
     ]
    },
    {
     "data": {
      "application/vnd.jupyter.widget-view+json": {
       "model_id": "c914e9041d5f4fabbce680b0ac0ad1a0",
       "version_major": 2,
       "version_minor": 0
      },
      "text/plain": [
       "HBox(children=(IntProgress(value=0, max=782), HTML(value='')))"
      ]
     },
     "metadata": {},
     "output_type": "display_data"
    },
    {
     "name": "stdout",
     "output_type": "stream",
     "text": [
      "\n",
      "epoch 1 test acc 0.8812140345268542\n"
     ]
    },
    {
     "data": {
      "application/vnd.jupyter.widget-view+json": {
       "model_id": "d9929aff48cd446a9fa2333abf6156b5",
       "version_major": 2,
       "version_minor": 0
      },
      "text/plain": [
       "HBox(children=(IntProgress(value=0, max=2344), HTML(value='')))"
      ]
     },
     "metadata": {},
     "output_type": "display_data"
    },
    {
     "name": "stdout",
     "output_type": "stream",
     "text": [
      "epoch 2 batch id 1 loss 0.5659840106964111 train acc 0.8125\n",
      "epoch 2 batch id 201 loss 0.21055644750595093 train acc 0.8741449004975125\n",
      "epoch 2 batch id 401 loss 0.2255171537399292 train acc 0.8764806733167082\n",
      "epoch 2 batch id 601 loss 0.38153547048568726 train acc 0.8796017054908486\n",
      "epoch 2 batch id 801 loss 0.3388769328594208 train acc 0.8806569912609239\n",
      "epoch 2 batch id 1001 loss 0.25130346417427063 train acc 0.8821334915084915\n",
      "epoch 2 batch id 1201 loss 0.34472060203552246 train acc 0.8838598043297252\n",
      "epoch 2 batch id 1401 loss 0.17869064211845398 train acc 0.8850820842255531\n",
      "epoch 2 batch id 1601 loss 0.26015505194664 train acc 0.8869944565896315\n",
      "epoch 2 batch id 1801 loss 0.22083118557929993 train acc 0.8883953359244864\n",
      "epoch 2 batch id 2001 loss 0.22348390519618988 train acc 0.8909295352323838\n",
      "epoch 2 batch id 2201 loss 0.23048672080039978 train acc 0.8925985347569286\n",
      "\n",
      "epoch 2 train acc 0.8939624217861205\n"
     ]
    },
    {
     "data": {
      "application/vnd.jupyter.widget-view+json": {
       "model_id": "d95b30de09ad4d6b894fa60e7c984442",
       "version_major": 2,
       "version_minor": 0
      },
      "text/plain": [
       "HBox(children=(IntProgress(value=0, max=782), HTML(value='')))"
      ]
     },
     "metadata": {},
     "output_type": "display_data"
    },
    {
     "name": "stdout",
     "output_type": "stream",
     "text": [
      "\n",
      "epoch 2 test acc 0.8840113491048593\n"
     ]
    },
    {
     "data": {
      "application/vnd.jupyter.widget-view+json": {
       "model_id": "6cd170960eeb437fb1d4583839fdd5d3",
       "version_major": 2,
       "version_minor": 0
      },
      "text/plain": [
       "HBox(children=(IntProgress(value=0, max=2344), HTML(value='')))"
      ]
     },
     "metadata": {},
     "output_type": "display_data"
    },
    {
     "name": "stdout",
     "output_type": "stream",
     "text": [
      "epoch 3 batch id 1 loss 0.48373836278915405 train acc 0.828125\n",
      "epoch 3 batch id 201 loss 0.15840297937393188 train acc 0.9125466417910447\n",
      "epoch 3 batch id 401 loss 0.18017694354057312 train acc 0.9167705735660848\n",
      "epoch 3 batch id 601 loss 0.3068211078643799 train acc 0.9188071963394343\n",
      "epoch 3 batch id 801 loss 0.2723780572414398 train acc 0.9201388888888888\n",
      "epoch 3 batch id 1001 loss 0.2513832449913025 train acc 0.9218906093906094\n",
      "epoch 3 batch id 1201 loss 0.17808102071285248 train acc 0.9232150291423813\n",
      "epoch 3 batch id 1401 loss 0.15271508693695068 train acc 0.9240163276231264\n",
      "epoch 3 batch id 1601 loss 0.2967056334018707 train acc 0.9252517957526546\n",
      "epoch 3 batch id 1801 loss 0.17671093344688416 train acc 0.9265078428650749\n",
      "epoch 3 batch id 2001 loss 0.17577962577342987 train acc 0.9278720014992504\n",
      "epoch 3 batch id 2201 loss 0.24299463629722595 train acc 0.9289385506587915\n",
      "\n",
      "epoch 3 train acc 0.9296497262514222\n"
     ]
    },
    {
     "data": {
      "application/vnd.jupyter.widget-view+json": {
       "model_id": "51a16ec8228846f7ab812f33e7e1997a",
       "version_major": 2,
       "version_minor": 0
      },
      "text/plain": [
       "HBox(children=(IntProgress(value=0, max=782), HTML(value='')))"
      ]
     },
     "metadata": {},
     "output_type": "display_data"
    },
    {
     "name": "stdout",
     "output_type": "stream",
     "text": [
      "\n",
      "epoch 3 test acc 0.8899256713554987\n"
     ]
    },
    {
     "data": {
      "application/vnd.jupyter.widget-view+json": {
       "model_id": "5d4a67b9ce474f8c9254a723270bb64d",
       "version_major": 2,
       "version_minor": 0
      },
      "text/plain": [
       "HBox(children=(IntProgress(value=0, max=2344), HTML(value='')))"
      ]
     },
     "metadata": {},
     "output_type": "display_data"
    },
    {
     "name": "stdout",
     "output_type": "stream",
     "text": [
      "epoch 4 batch id 1 loss 0.4444595277309418 train acc 0.859375\n",
      "epoch 4 batch id 201 loss 0.13889901340007782 train acc 0.9422419154228856\n",
      "epoch 4 batch id 401 loss 0.11540228873491287 train acc 0.9442799251870324\n",
      "epoch 4 batch id 601 loss 0.24448156356811523 train acc 0.9441035773710482\n",
      "epoch 4 batch id 801 loss 0.31389155983924866 train acc 0.9452637328339576\n",
      "epoch 4 batch id 1001 loss 0.08649826049804688 train acc 0.9469124625374625\n",
      "epoch 4 batch id 1201 loss 0.10248437523841858 train acc 0.9479860532889259\n",
      "epoch 4 batch id 1401 loss 0.09261193871498108 train acc 0.9481843326195575\n",
      "epoch 4 batch id 1601 loss 0.14506103098392487 train acc 0.949289506558401\n",
      "epoch 4 batch id 1801 loss 0.09147702157497406 train acc 0.9500537895613548\n",
      "epoch 4 batch id 2001 loss 0.16411834955215454 train acc 0.9510010619690155\n",
      "epoch 4 batch id 2201 loss 0.24735620617866516 train acc 0.9514709223080418\n",
      "\n",
      "epoch 4 train acc 0.9520228953356086\n"
     ]
    },
    {
     "data": {
      "application/vnd.jupyter.widget-view+json": {
       "model_id": "2a1f36168ec1415caa5254e7ab6b6df6",
       "version_major": 2,
       "version_minor": 0
      },
      "text/plain": [
       "HBox(children=(IntProgress(value=0, max=782), HTML(value='')))"
      ]
     },
     "metadata": {},
     "output_type": "display_data"
    },
    {
     "name": "stdout",
     "output_type": "stream",
     "text": [
      "\n",
      "epoch 4 test acc 0.8882273017902813\n"
     ]
    },
    {
     "data": {
      "application/vnd.jupyter.widget-view+json": {
       "model_id": "c413a16ac61747e68fcd7a9365350d4f",
       "version_major": 2,
       "version_minor": 0
      },
      "text/plain": [
       "HBox(children=(IntProgress(value=0, max=2344), HTML(value='')))"
      ]
     },
     "metadata": {},
     "output_type": "display_data"
    },
    {
     "name": "stdout",
     "output_type": "stream",
     "text": [
      "epoch 5 batch id 1 loss 0.3622145354747772 train acc 0.859375\n",
      "epoch 5 batch id 201 loss 0.060819655656814575 train acc 0.9612873134328358\n",
      "epoch 5 batch id 401 loss 0.21588994562625885 train acc 0.9616193890274314\n",
      "epoch 5 batch id 601 loss 0.27169376611709595 train acc 0.96141846921797\n",
      "epoch 5 batch id 801 loss 0.17355506122112274 train acc 0.9628199126092385\n",
      "epoch 5 batch id 1001 loss 0.017851151525974274 train acc 0.963676948051948\n",
      "epoch 5 batch id 1201 loss 0.03543621674180031 train acc 0.9637541631973355\n",
      "epoch 5 batch id 1401 loss 0.04253193736076355 train acc 0.9641550678087081\n",
      "epoch 5 batch id 1601 loss 0.0490616112947464 train acc 0.9645436445971268\n",
      "epoch 5 batch id 1801 loss 0.06676553189754486 train acc 0.9651929483620211\n",
      "epoch 5 batch id 2001 loss 0.027783142402768135 train acc 0.9655328585707147\n",
      "epoch 5 batch id 2201 loss 0.1519196778535843 train acc 0.9659955701953657\n",
      "\n",
      "epoch 5 train acc 0.9666057842718999\n"
     ]
    },
    {
     "data": {
      "application/vnd.jupyter.widget-view+json": {
       "model_id": "cea172a854434b2a93c9e7d0cbddf9b1",
       "version_major": 2,
       "version_minor": 0
      },
      "text/plain": [
       "HBox(children=(IntProgress(value=0, max=782), HTML(value='')))"
      ]
     },
     "metadata": {},
     "output_type": "display_data"
    },
    {
     "name": "stdout",
     "output_type": "stream",
     "text": [
      "\n",
      "epoch 5 test acc 0.8941815856777494\n"
     ]
    },
    {
     "data": {
      "application/vnd.jupyter.widget-view+json": {
       "model_id": "f731d9ebc5b04940888e12b5fbf7b118",
       "version_major": 2,
       "version_minor": 0
      },
      "text/plain": [
       "HBox(children=(IntProgress(value=0, max=2344), HTML(value='')))"
      ]
     },
     "metadata": {},
     "output_type": "display_data"
    },
    {
     "name": "stdout",
     "output_type": "stream",
     "text": [
      "epoch 6 batch id 1 loss 0.45254993438720703 train acc 0.859375\n",
      "epoch 6 batch id 201 loss 0.023230426013469696 train acc 0.9709266169154229\n",
      "epoch 6 batch id 401 loss 0.10994812846183777 train acc 0.9746337281795511\n",
      "epoch 6 batch id 601 loss 0.21196112036705017 train acc 0.9741316555740432\n",
      "epoch 6 batch id 801 loss 0.1503436267375946 train acc 0.9750702247191011\n",
      "epoch 6 batch id 1001 loss 0.013627885840833187 train acc 0.9755244755244755\n",
      "epoch 6 batch id 1201 loss 0.029128827154636383 train acc 0.9757753955037469\n",
      "epoch 6 batch id 1401 loss 0.10501827299594879 train acc 0.9759323697359029\n",
      "epoch 6 batch id 1601 loss 0.020535580813884735 train acc 0.9761769987507808\n",
      "epoch 6 batch id 1801 loss 0.017443349584937096 train acc 0.9767230011104941\n",
      "epoch 6 batch id 2001 loss 0.015322821214795113 train acc 0.9770271114442779\n",
      "epoch 6 batch id 2201 loss 0.10562796890735626 train acc 0.9772120626987733\n",
      "\n",
      "epoch 6 train acc 0.9774424061433447\n"
     ]
    },
    {
     "data": {
      "application/vnd.jupyter.widget-view+json": {
       "model_id": "25d2c192e8204345a308509b687c05be",
       "version_major": 2,
       "version_minor": 0
      },
      "text/plain": [
       "HBox(children=(IntProgress(value=0, max=782), HTML(value='')))"
      ]
     },
     "metadata": {},
     "output_type": "display_data"
    },
    {
     "name": "stdout",
     "output_type": "stream",
     "text": [
      "\n",
      "epoch 6 test acc 0.896579283887468\n"
     ]
    },
    {
     "data": {
      "application/vnd.jupyter.widget-view+json": {
       "model_id": "8e16ef6c0d76485cb977ff7152afbada",
       "version_major": 2,
       "version_minor": 0
      },
      "text/plain": [
       "HBox(children=(IntProgress(value=0, max=2344), HTML(value='')))"
      ]
     },
     "metadata": {},
     "output_type": "display_data"
    },
    {
     "name": "stdout",
     "output_type": "stream",
     "text": [
      "epoch 7 batch id 1 loss 0.38538122177124023 train acc 0.90625\n",
      "epoch 7 batch id 201 loss 0.02471243217587471 train acc 0.9814987562189055\n",
      "epoch 7 batch id 401 loss 0.020376408472657204 train acc 0.9821150249376559\n",
      "epoch 7 batch id 601 loss 0.13279977440834045 train acc 0.98193115640599\n",
      "epoch 7 batch id 801 loss 0.13205182552337646 train acc 0.9820731897627965\n",
      "epoch 7 batch id 1001 loss 0.004017830826342106 train acc 0.9825174825174825\n",
      "epoch 7 batch id 1201 loss 0.009073221124708652 train acc 0.9827097210657785\n",
      "epoch 7 batch id 1401 loss 0.04712768644094467 train acc 0.982746698786581\n",
      "epoch 7 batch id 1601 loss 0.002499643713235855 train acc 0.9830184259837601\n",
      "epoch 7 batch id 1801 loss 0.07258564233779907 train acc 0.9835074264297612\n",
      "epoch 7 batch id 2001 loss 0.009655407629907131 train acc 0.9838362068965517\n",
      "epoch 7 batch id 2201 loss 0.04316674917936325 train acc 0.9839135620172649\n",
      "\n",
      "epoch 7 train acc 0.9841883532423208\n"
     ]
    },
    {
     "data": {
      "application/vnd.jupyter.widget-view+json": {
       "model_id": "d99cdbfa7d5a419f843b7e14253c5e8f",
       "version_major": 2,
       "version_minor": 0
      },
      "text/plain": [
       "HBox(children=(IntProgress(value=0, max=782), HTML(value='')))"
      ]
     },
     "metadata": {},
     "output_type": "display_data"
    },
    {
     "name": "stdout",
     "output_type": "stream",
     "text": [
      "\n",
      "epoch 7 test acc 0.8965193414322251\n"
     ]
    },
    {
     "data": {
      "application/vnd.jupyter.widget-view+json": {
       "model_id": "217012dcd3674d8f8bd2f7ae66a35870",
       "version_major": 2,
       "version_minor": 0
      },
      "text/plain": [
       "HBox(children=(IntProgress(value=0, max=2344), HTML(value='')))"
      ]
     },
     "metadata": {},
     "output_type": "display_data"
    },
    {
     "name": "stdout",
     "output_type": "stream",
     "text": [
      "epoch 8 batch id 1 loss 0.3220914304256439 train acc 0.921875\n",
      "epoch 8 batch id 201 loss 0.028787951916456223 train acc 0.9860851990049752\n",
      "epoch 8 batch id 401 loss 0.01827303133904934 train acc 0.9872584164588528\n",
      "epoch 8 batch id 601 loss 0.1193886399269104 train acc 0.9871308236272879\n",
      "epoch 8 batch id 801 loss 0.13345305621623993 train acc 0.9873205368289638\n",
      "epoch 8 batch id 1001 loss 0.003282591700553894 train acc 0.9877622377622378\n",
      "epoch 8 batch id 1201 loss 0.00876672100275755 train acc 0.9879397377185679\n",
      "epoch 8 batch id 1401 loss 0.01857699081301689 train acc 0.9878992683797287\n",
      "epoch 8 batch id 1601 loss 0.018004994839429855 train acc 0.9879469862585883\n",
      "epoch 8 batch id 1801 loss 0.042217861860990524 train acc 0.9881923237090505\n",
      "epoch 8 batch id 2001 loss 0.07355353236198425 train acc 0.9884042353823088\n",
      "epoch 8 batch id 2201 loss 0.08019272983074188 train acc 0.9883291685597456\n",
      "\n",
      "epoch 8 train acc 0.9884279010238908\n"
     ]
    },
    {
     "data": {
      "application/vnd.jupyter.widget-view+json": {
       "model_id": "9c149d10551843449136a6c0793c37e6",
       "version_major": 2,
       "version_minor": 0
      },
      "text/plain": [
       "HBox(children=(IntProgress(value=0, max=782), HTML(value='')))"
      ]
     },
     "metadata": {},
     "output_type": "display_data"
    },
    {
     "name": "stdout",
     "output_type": "stream",
     "text": [
      "\n",
      "epoch 8 test acc 0.8961596867007673\n"
     ]
    },
    {
     "data": {
      "application/vnd.jupyter.widget-view+json": {
       "model_id": "3e0f54354f564ee6bda8315ad87afe9c",
       "version_major": 2,
       "version_minor": 0
      },
      "text/plain": [
       "HBox(children=(IntProgress(value=0, max=2344), HTML(value='')))"
      ]
     },
     "metadata": {},
     "output_type": "display_data"
    },
    {
     "name": "stdout",
     "output_type": "stream",
     "text": [
      "epoch 9 batch id 1 loss 0.14218182861804962 train acc 0.96875\n",
      "epoch 9 batch id 201 loss 0.016207313165068626 train acc 0.990282960199005\n",
      "epoch 9 batch id 401 loss 0.013090400025248528 train acc 0.991232855361596\n",
      "epoch 9 batch id 601 loss 0.1411430388689041 train acc 0.9908225873544093\n",
      "epoch 9 batch id 801 loss 0.11252908408641815 train acc 0.9909683208489388\n",
      "epoch 9 batch id 1001 loss 0.003230966627597809 train acc 0.991087037962038\n",
      "epoch 9 batch id 1201 loss 0.00725606270134449 train acc 0.9909970857618651\n",
      "epoch 9 batch id 1401 loss 0.09745766967535019 train acc 0.9909774268379729\n",
      "epoch 9 batch id 1601 loss 0.01987529546022415 train acc 0.9910212367270456\n",
      "epoch 9 batch id 1801 loss 0.003428582102060318 train acc 0.9911941282620766\n",
      "epoch 9 batch id 2001 loss 0.0553654283285141 train acc 0.9912075212393803\n",
      "epoch 9 batch id 2201 loss 0.017177462577819824 train acc 0.9911900840527034\n",
      "\n",
      "epoch 9 train acc 0.9912942619453925\n"
     ]
    },
    {
     "data": {
      "application/vnd.jupyter.widget-view+json": {
       "model_id": "b833ee0eee5e4f05b4fe169f52c30ef3",
       "version_major": 2,
       "version_minor": 0
      },
      "text/plain": [
       "HBox(children=(IntProgress(value=0, max=782), HTML(value='')))"
      ]
     },
     "metadata": {},
     "output_type": "display_data"
    },
    {
     "name": "stdout",
     "output_type": "stream",
     "text": [
      "\n",
      "epoch 9 test acc 0.896639226342711\n"
     ]
    },
    {
     "data": {
      "application/vnd.jupyter.widget-view+json": {
       "model_id": "0f933da9fab2460ea8265345047bf7d4",
       "version_major": 2,
       "version_minor": 0
      },
      "text/plain": [
       "HBox(children=(IntProgress(value=0, max=2344), HTML(value='')))"
      ]
     },
     "metadata": {},
     "output_type": "display_data"
    },
    {
     "name": "stdout",
     "output_type": "stream",
     "text": [
      "epoch 10 batch id 1 loss 0.16917265951633453 train acc 0.96875\n",
      "epoch 10 batch id 201 loss 0.014045952819287777 train acc 0.9929259950248757\n",
      "epoch 10 batch id 401 loss 0.07299713790416718 train acc 0.9937655860349127\n",
      "epoch 10 batch id 601 loss 0.11329394578933716 train acc 0.9930324459234608\n",
      "epoch 10 batch id 801 loss 0.11510379612445831 train acc 0.9929580212234707\n",
      "epoch 10 batch id 1001 loss 0.001598995178937912 train acc 0.9929445554445554\n",
      "epoch 10 batch id 1201 loss 0.010951431468129158 train acc 0.9927924646128227\n",
      "epoch 10 batch id 1401 loss 0.0175294429063797 train acc 0.9928176302640971\n",
      "epoch 10 batch id 1601 loss 0.0019454564899206161 train acc 0.9928755465334166\n",
      "epoch 10 batch id 1801 loss 0.003645370714366436 train acc 0.9929986812881733\n",
      "epoch 10 batch id 2001 loss 0.006257026456296444 train acc 0.9930034982508745\n",
      "epoch 10 batch id 2201 loss 0.016531750559806824 train acc 0.9928796569741026\n",
      "\n",
      "epoch 10 train acc 0.9928274317406144\n"
     ]
    },
    {
     "data": {
      "application/vnd.jupyter.widget-view+json": {
       "model_id": "308d4e0a83944f3e8b5966ab7fe5fb3a",
       "version_major": 2,
       "version_minor": 0
      },
      "text/plain": [
       "HBox(children=(IntProgress(value=0, max=782), HTML(value='')))"
      ]
     },
     "metadata": {},
     "output_type": "display_data"
    },
    {
     "name": "stdout",
     "output_type": "stream",
     "text": [
      "\n",
      "epoch 10 test acc 0.8967790920716112\n"
     ]
    }
   ],
   "source": [
    "for e in range(num_epochs):\n",
    "    train_acc = 0.0\n",
    "    test_acc = 0.0\n",
    "    model.train()\n",
    "    for batch_id, (token_ids, valid_length, segment_ids, label) in enumerate(tqdm_notebook(train_dataloader)):\n",
    "        optimizer.zero_grad()\n",
    "        token_ids = token_ids.long().to(device)\n",
    "        segment_ids = segment_ids.long().to(device)\n",
    "        valid_length= valid_length\n",
    "        label = label.long().to(device)\n",
    "        out = model(token_ids, valid_length, segment_ids)\n",
    "        loss = loss_fn(out, label)\n",
    "        loss.backward()\n",
    "        torch.nn.utils.clip_grad_norm_(model.parameters(), max_grad_norm)\n",
    "        optimizer.step()\n",
    "        scheduler.step()  # Update learning rate schedule\n",
    "        train_acc += calc_accuracy(out, label)\n",
    "        if batch_id % log_interval == 0:\n",
    "            print(\"epoch {} batch id {} loss {} train acc {}\".format(e+1, batch_id+1, loss.data.cpu().numpy(), train_acc / (batch_id+1)))\n",
    "    print(\"epoch {} train acc {}\".format(e+1, train_acc / (batch_id+1)))\n",
    "    model.eval()\n",
    "    for batch_id, (token_ids, valid_length, segment_ids, label) in enumerate(tqdm_notebook(test_dataloader)):\n",
    "        token_ids = token_ids.long().to(device)\n",
    "        segment_ids = segment_ids.long().to(device)\n",
    "        valid_length= valid_length\n",
    "        label = label.long().to(device)\n",
    "        out = model(token_ids, valid_length, segment_ids)\n",
    "        test_acc += calc_accuracy(out, label)\n",
    "    print(\"epoch {} test acc {}\".format(e+1, test_acc / (batch_id+1)))"
   ]
  },
  {
   "cell_type": "code",
   "execution_count": 23,
   "metadata": {
    "colab": {
     "base_uri": "https://localhost:8080/",
     "height": 121,
     "referenced_widgets": [
      "8eceb357837f4346903f86c208c33978",
      "0389110bd1aa432f981cf0ff2c09740f",
      "376c9f80e2c64a8bb5b140a59a09dbcf",
      "0bc3995b51604d42868c505bee68caa9",
      "4955ac3e682b4b93aee80519be39536d",
      "5531157d12ba476ea5c00b854f48a5d6",
      "282463410ab2418f89134fb261508056",
      "0ec832f6e293400cb3a373434a8f0b62"
     ]
    },
    "id": "dkJmrudOVOFW",
    "outputId": "3312adeb-adf1-4ad5-9f14-3a6dcf5bfac5"
   },
   "outputs": [
    {
     "data": {
      "application/vnd.jupyter.widget-view+json": {
       "model_id": "ad1b7ad183e246fa84c2607b9826746f",
       "version_major": 2,
       "version_minor": 0
      },
      "text/plain": [
       "HBox(children=(IntProgress(value=0, max=11187), HTML(value='')))"
      ]
     },
     "metadata": {},
     "output_type": "display_data"
    },
    {
     "name": "stdout",
     "output_type": "stream",
     "text": [
      "\n"
     ]
    }
   ],
   "source": [
    "import csv\n",
    "\n",
    "data_valid = nlp.data.TSVDataset(\"valid.txt\", field_indices=[1,2], num_discard_samples=1)\n",
    "data_valid = BERTDataset(data_valid, 0, 1, tok, max_len, True, False)\n",
    "valid_dataloader = torch.utils.data.DataLoader(data_valid, batch_size=1, num_workers=5)\n",
    "\n",
    "valid_result = []\n",
    "\n",
    "model.eval()\n",
    "for batch_id, (token_ids, valid_length, segment_ids, label) in enumerate(tqdm_notebook(valid_dataloader)):\n",
    "    token_ids = token_ids.long().to(device)\n",
    "    segment_ids = segment_ids.long().to(device)\n",
    "    valid_length= valid_length\n",
    "    out = model(token_ids, valid_length, segment_ids)\n",
    "    _, max_idx = torch.max(out, dim=-1)\n",
    "    pred_emotion = max_idx.tolist()[0]    \n",
    "    #logits = out.detach().cpu().numpy()        \n",
    "    valid_result.append(pred_emotion)\n",
    "    #print(pred_emotion)\n",
    "\n",
    "\n",
    "with open('labeled.csv', 'w', newline='') as csvfile:\n",
    "    fieldnames = ['Id', 'Predicted']\n",
    "    writer = csv.DictWriter(csvfile, fieldnames=fieldnames)\n",
    "\n",
    "    writer.writeheader()\n",
    "    for idx,row in enumerate(valid_result):\n",
    "      writer.writerow({'Id': idx, 'Predicted': row})"
   ]
  }
 ],
 "metadata": {
  "accelerator": "GPU",
  "colab": {
   "collapsed_sections": [],
   "name": "naver_review_classifications_pytorch_kobert.ipynb",
   "provenance": []
  },
  "kernelspec": {
   "display_name": "Python 3",
   "language": "python",
   "name": "python3"
  },
  "language_info": {
   "codemirror_mode": {
    "name": "ipython",
    "version": 3
   },
   "file_extension": ".py",
   "mimetype": "text/x-python",
   "name": "python",
   "nbconvert_exporter": "python",
   "pygments_lexer": "ipython3",
   "version": "3.7.7"
  },
  "widgets": {
   "application/vnd.jupyter.widget-state+json": {
    "0389110bd1aa432f981cf0ff2c09740f": {
     "model_module": "@jupyter-widgets/base",
     "model_name": "LayoutModel",
     "state": {
      "_model_module": "@jupyter-widgets/base",
      "_model_module_version": "1.2.0",
      "_model_name": "LayoutModel",
      "_view_count": null,
      "_view_module": "@jupyter-widgets/base",
      "_view_module_version": "1.2.0",
      "_view_name": "LayoutView",
      "align_content": null,
      "align_items": null,
      "align_self": null,
      "border": null,
      "bottom": null,
      "display": null,
      "flex": null,
      "flex_flow": null,
      "grid_area": null,
      "grid_auto_columns": null,
      "grid_auto_flow": null,
      "grid_auto_rows": null,
      "grid_column": null,
      "grid_gap": null,
      "grid_row": null,
      "grid_template_areas": null,
      "grid_template_columns": null,
      "grid_template_rows": null,
      "height": null,
      "justify_content": null,
      "justify_items": null,
      "left": null,
      "margin": null,
      "max_height": null,
      "max_width": null,
      "min_height": null,
      "min_width": null,
      "object_fit": null,
      "object_position": null,
      "order": null,
      "overflow": null,
      "overflow_x": null,
      "overflow_y": null,
      "padding": null,
      "right": null,
      "top": null,
      "visibility": null,
      "width": null
     }
    },
    "03ed660542474f0984b7da0a6781a743": {
     "model_module": "@jupyter-widgets/base",
     "model_name": "LayoutModel",
     "state": {
      "_model_module": "@jupyter-widgets/base",
      "_model_module_version": "1.2.0",
      "_model_name": "LayoutModel",
      "_view_count": null,
      "_view_module": "@jupyter-widgets/base",
      "_view_module_version": "1.2.0",
      "_view_name": "LayoutView",
      "align_content": null,
      "align_items": null,
      "align_self": null,
      "border": null,
      "bottom": null,
      "display": null,
      "flex": null,
      "flex_flow": null,
      "grid_area": null,
      "grid_auto_columns": null,
      "grid_auto_flow": null,
      "grid_auto_rows": null,
      "grid_column": null,
      "grid_gap": null,
      "grid_row": null,
      "grid_template_areas": null,
      "grid_template_columns": null,
      "grid_template_rows": null,
      "height": null,
      "justify_content": null,
      "justify_items": null,
      "left": null,
      "margin": null,
      "max_height": null,
      "max_width": null,
      "min_height": null,
      "min_width": null,
      "object_fit": null,
      "object_position": null,
      "order": null,
      "overflow": null,
      "overflow_x": null,
      "overflow_y": null,
      "padding": null,
      "right": null,
      "top": null,
      "visibility": null,
      "width": null
     }
    },
    "0bc3995b51604d42868c505bee68caa9": {
     "model_module": "@jupyter-widgets/controls",
     "model_name": "HTMLModel",
     "state": {
      "_dom_classes": [],
      "_model_module": "@jupyter-widgets/controls",
      "_model_module_version": "1.5.0",
      "_model_name": "HTMLModel",
      "_view_count": null,
      "_view_module": "@jupyter-widgets/controls",
      "_view_module_version": "1.5.0",
      "_view_name": "HTMLView",
      "description": "",
      "description_tooltip": null,
      "layout": "IPY_MODEL_0ec832f6e293400cb3a373434a8f0b62",
      "placeholder": "​",
      "style": "IPY_MODEL_282463410ab2418f89134fb261508056",
      "value": " 11187/11187 [51:34&lt;00:00,  3.62it/s]"
     }
    },
    "0ec832f6e293400cb3a373434a8f0b62": {
     "model_module": "@jupyter-widgets/base",
     "model_name": "LayoutModel",
     "state": {
      "_model_module": "@jupyter-widgets/base",
      "_model_module_version": "1.2.0",
      "_model_name": "LayoutModel",
      "_view_count": null,
      "_view_module": "@jupyter-widgets/base",
      "_view_module_version": "1.2.0",
      "_view_name": "LayoutView",
      "align_content": null,
      "align_items": null,
      "align_self": null,
      "border": null,
      "bottom": null,
      "display": null,
      "flex": null,
      "flex_flow": null,
      "grid_area": null,
      "grid_auto_columns": null,
      "grid_auto_flow": null,
      "grid_auto_rows": null,
      "grid_column": null,
      "grid_gap": null,
      "grid_row": null,
      "grid_template_areas": null,
      "grid_template_columns": null,
      "grid_template_rows": null,
      "height": null,
      "justify_content": null,
      "justify_items": null,
      "left": null,
      "margin": null,
      "max_height": null,
      "max_width": null,
      "min_height": null,
      "min_width": null,
      "object_fit": null,
      "object_position": null,
      "order": null,
      "overflow": null,
      "overflow_x": null,
      "overflow_y": null,
      "padding": null,
      "right": null,
      "top": null,
      "visibility": null,
      "width": null
     }
    },
    "282463410ab2418f89134fb261508056": {
     "model_module": "@jupyter-widgets/controls",
     "model_name": "DescriptionStyleModel",
     "state": {
      "_model_module": "@jupyter-widgets/controls",
      "_model_module_version": "1.5.0",
      "_model_name": "DescriptionStyleModel",
      "_view_count": null,
      "_view_module": "@jupyter-widgets/base",
      "_view_module_version": "1.2.0",
      "_view_name": "StyleView",
      "description_width": ""
     }
    },
    "376c9f80e2c64a8bb5b140a59a09dbcf": {
     "model_module": "@jupyter-widgets/controls",
     "model_name": "FloatProgressModel",
     "state": {
      "_dom_classes": [],
      "_model_module": "@jupyter-widgets/controls",
      "_model_module_version": "1.5.0",
      "_model_name": "FloatProgressModel",
      "_view_count": null,
      "_view_module": "@jupyter-widgets/controls",
      "_view_module_version": "1.5.0",
      "_view_name": "ProgressView",
      "bar_style": "success",
      "description": "100%",
      "description_tooltip": null,
      "layout": "IPY_MODEL_5531157d12ba476ea5c00b854f48a5d6",
      "max": 11187,
      "min": 0,
      "orientation": "horizontal",
      "style": "IPY_MODEL_4955ac3e682b4b93aee80519be39536d",
      "value": 11187
     }
    },
    "4955ac3e682b4b93aee80519be39536d": {
     "model_module": "@jupyter-widgets/controls",
     "model_name": "ProgressStyleModel",
     "state": {
      "_model_module": "@jupyter-widgets/controls",
      "_model_module_version": "1.5.0",
      "_model_name": "ProgressStyleModel",
      "_view_count": null,
      "_view_module": "@jupyter-widgets/base",
      "_view_module_version": "1.2.0",
      "_view_name": "StyleView",
      "bar_color": null,
      "description_width": "initial"
     }
    },
    "5531157d12ba476ea5c00b854f48a5d6": {
     "model_module": "@jupyter-widgets/base",
     "model_name": "LayoutModel",
     "state": {
      "_model_module": "@jupyter-widgets/base",
      "_model_module_version": "1.2.0",
      "_model_name": "LayoutModel",
      "_view_count": null,
      "_view_module": "@jupyter-widgets/base",
      "_view_module_version": "1.2.0",
      "_view_name": "LayoutView",
      "align_content": null,
      "align_items": null,
      "align_self": null,
      "border": null,
      "bottom": null,
      "display": null,
      "flex": null,
      "flex_flow": null,
      "grid_area": null,
      "grid_auto_columns": null,
      "grid_auto_flow": null,
      "grid_auto_rows": null,
      "grid_column": null,
      "grid_gap": null,
      "grid_row": null,
      "grid_template_areas": null,
      "grid_template_columns": null,
      "grid_template_rows": null,
      "height": null,
      "justify_content": null,
      "justify_items": null,
      "left": null,
      "margin": null,
      "max_height": null,
      "max_width": null,
      "min_height": null,
      "min_width": null,
      "object_fit": null,
      "object_position": null,
      "order": null,
      "overflow": null,
      "overflow_x": null,
      "overflow_y": null,
      "padding": null,
      "right": null,
      "top": null,
      "visibility": null,
      "width": null
     }
    },
    "68e17e52981d43349842a7095d436d7a": {
     "model_module": "@jupyter-widgets/controls",
     "model_name": "HBoxModel",
     "state": {
      "_dom_classes": [],
      "_model_module": "@jupyter-widgets/controls",
      "_model_module_version": "1.5.0",
      "_model_name": "HBoxModel",
      "_view_count": null,
      "_view_module": "@jupyter-widgets/controls",
      "_view_module_version": "1.5.0",
      "_view_name": "HBoxView",
      "box_style": "",
      "children": [
       "IPY_MODEL_c9c74b3ebdbb4bc6be642bd120eae11a",
       "IPY_MODEL_e42bb7bd91d34bddae30d7c7f118c587"
      ],
      "layout": "IPY_MODEL_efdeec65971d4dcc927d8f1827cfd26d"
     }
    },
    "8075e88fb3304db4b54495263cdab715": {
     "model_module": "@jupyter-widgets/controls",
     "model_name": "ProgressStyleModel",
     "state": {
      "_model_module": "@jupyter-widgets/controls",
      "_model_module_version": "1.5.0",
      "_model_name": "ProgressStyleModel",
      "_view_count": null,
      "_view_module": "@jupyter-widgets/base",
      "_view_module_version": "1.2.0",
      "_view_name": "StyleView",
      "bar_color": null,
      "description_width": "initial"
     }
    },
    "8a383bb4d48143c6a057c1b7d106817b": {
     "model_module": "@jupyter-widgets/base",
     "model_name": "LayoutModel",
     "state": {
      "_model_module": "@jupyter-widgets/base",
      "_model_module_version": "1.2.0",
      "_model_name": "LayoutModel",
      "_view_count": null,
      "_view_module": "@jupyter-widgets/base",
      "_view_module_version": "1.2.0",
      "_view_name": "LayoutView",
      "align_content": null,
      "align_items": null,
      "align_self": null,
      "border": null,
      "bottom": null,
      "display": null,
      "flex": null,
      "flex_flow": null,
      "grid_area": null,
      "grid_auto_columns": null,
      "grid_auto_flow": null,
      "grid_auto_rows": null,
      "grid_column": null,
      "grid_gap": null,
      "grid_row": null,
      "grid_template_areas": null,
      "grid_template_columns": null,
      "grid_template_rows": null,
      "height": null,
      "justify_content": null,
      "justify_items": null,
      "left": null,
      "margin": null,
      "max_height": null,
      "max_width": null,
      "min_height": null,
      "min_width": null,
      "object_fit": null,
      "object_position": null,
      "order": null,
      "overflow": null,
      "overflow_x": null,
      "overflow_y": null,
      "padding": null,
      "right": null,
      "top": null,
      "visibility": null,
      "width": null
     }
    },
    "8eceb357837f4346903f86c208c33978": {
     "model_module": "@jupyter-widgets/controls",
     "model_name": "HBoxModel",
     "state": {
      "_dom_classes": [],
      "_model_module": "@jupyter-widgets/controls",
      "_model_module_version": "1.5.0",
      "_model_name": "HBoxModel",
      "_view_count": null,
      "_view_module": "@jupyter-widgets/controls",
      "_view_module_version": "1.5.0",
      "_view_name": "HBoxView",
      "box_style": "",
      "children": [
       "IPY_MODEL_376c9f80e2c64a8bb5b140a59a09dbcf",
       "IPY_MODEL_0bc3995b51604d42868c505bee68caa9"
      ],
      "layout": "IPY_MODEL_0389110bd1aa432f981cf0ff2c09740f"
     }
    },
    "c9c74b3ebdbb4bc6be642bd120eae11a": {
     "model_module": "@jupyter-widgets/controls",
     "model_name": "FloatProgressModel",
     "state": {
      "_dom_classes": [],
      "_model_module": "@jupyter-widgets/controls",
      "_model_module_version": "1.5.0",
      "_model_name": "FloatProgressModel",
      "_view_count": null,
      "_view_module": "@jupyter-widgets/controls",
      "_view_module_version": "1.5.0",
      "_view_name": "ProgressView",
      "bar_style": "",
      "description": " 37%",
      "description_tooltip": null,
      "layout": "IPY_MODEL_03ed660542474f0984b7da0a6781a743",
      "max": 2344,
      "min": 0,
      "orientation": "horizontal",
      "style": "IPY_MODEL_8075e88fb3304db4b54495263cdab715",
      "value": 875
     }
    },
    "e42bb7bd91d34bddae30d7c7f118c587": {
     "model_module": "@jupyter-widgets/controls",
     "model_name": "HTMLModel",
     "state": {
      "_dom_classes": [],
      "_model_module": "@jupyter-widgets/controls",
      "_model_module_version": "1.5.0",
      "_model_name": "HTMLModel",
      "_view_count": null,
      "_view_module": "@jupyter-widgets/controls",
      "_view_module_version": "1.5.0",
      "_view_name": "HTMLView",
      "description": "",
      "description_tooltip": null,
      "layout": "IPY_MODEL_8a383bb4d48143c6a057c1b7d106817b",
      "placeholder": "​",
      "style": "IPY_MODEL_e5ccdcbe77c54daea1e8ba61251c23c8",
      "value": " 874/2344 [09:39&lt;16:33,  1.48it/s]"
     }
    },
    "e5ccdcbe77c54daea1e8ba61251c23c8": {
     "model_module": "@jupyter-widgets/controls",
     "model_name": "DescriptionStyleModel",
     "state": {
      "_model_module": "@jupyter-widgets/controls",
      "_model_module_version": "1.5.0",
      "_model_name": "DescriptionStyleModel",
      "_view_count": null,
      "_view_module": "@jupyter-widgets/base",
      "_view_module_version": "1.2.0",
      "_view_name": "StyleView",
      "description_width": ""
     }
    },
    "efdeec65971d4dcc927d8f1827cfd26d": {
     "model_module": "@jupyter-widgets/base",
     "model_name": "LayoutModel",
     "state": {
      "_model_module": "@jupyter-widgets/base",
      "_model_module_version": "1.2.0",
      "_model_name": "LayoutModel",
      "_view_count": null,
      "_view_module": "@jupyter-widgets/base",
      "_view_module_version": "1.2.0",
      "_view_name": "LayoutView",
      "align_content": null,
      "align_items": null,
      "align_self": null,
      "border": null,
      "bottom": null,
      "display": null,
      "flex": null,
      "flex_flow": null,
      "grid_area": null,
      "grid_auto_columns": null,
      "grid_auto_flow": null,
      "grid_auto_rows": null,
      "grid_column": null,
      "grid_gap": null,
      "grid_row": null,
      "grid_template_areas": null,
      "grid_template_columns": null,
      "grid_template_rows": null,
      "height": null,
      "justify_content": null,
      "justify_items": null,
      "left": null,
      "margin": null,
      "max_height": null,
      "max_width": null,
      "min_height": null,
      "min_width": null,
      "object_fit": null,
      "object_position": null,
      "order": null,
      "overflow": null,
      "overflow_x": null,
      "overflow_y": null,
      "padding": null,
      "right": null,
      "top": null,
      "visibility": null,
      "width": null
     }
    }
   }
  }
 },
 "nbformat": 4,
 "nbformat_minor": 1
}
